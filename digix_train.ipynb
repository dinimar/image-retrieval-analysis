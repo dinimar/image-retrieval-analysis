{
  "nbformat": 4,
  "nbformat_minor": 0,
  "metadata": {
    "orig_nbformat": 2,
    "colab": {
      "name": "digix_train.ipynb",
      "provenance": []
    },
    "kernelspec": {
      "name": "python3",
      "display_name": "Python 3"
    },
    "accelerator": "GPU",
    "widgets": {
      "application/vnd.jupyter.widget-state+json": {
        "daeba8338fbd49738eb6c9bf67fe0a3e": {
          "model_module": "@jupyter-widgets/controls",
          "model_name": "HBoxModel",
          "state": {
            "_view_name": "HBoxView",
            "_dom_classes": [],
            "_model_name": "HBoxModel",
            "_view_module": "@jupyter-widgets/controls",
            "_model_module_version": "1.5.0",
            "_view_count": null,
            "_view_module_version": "1.5.0",
            "box_style": "",
            "layout": "IPY_MODEL_68f34a5f3c57481c9b5652efbd69e203",
            "_model_module": "@jupyter-widgets/controls",
            "children": [
              "IPY_MODEL_f02084c6ef674a92a32a7fc71f03a8d2",
              "IPY_MODEL_b6d873ac1d7b4f9089422343470f09e7",
              "IPY_MODEL_3b66c312d96e408793f2ba228b0020f6"
            ]
          }
        },
        "68f34a5f3c57481c9b5652efbd69e203": {
          "model_module": "@jupyter-widgets/base",
          "model_name": "LayoutModel",
          "state": {
            "_view_name": "LayoutView",
            "grid_template_rows": null,
            "right": null,
            "justify_content": null,
            "_view_module": "@jupyter-widgets/base",
            "overflow": null,
            "_model_module_version": "1.2.0",
            "_view_count": null,
            "flex_flow": null,
            "width": null,
            "min_width": null,
            "border": null,
            "align_items": null,
            "bottom": null,
            "_model_module": "@jupyter-widgets/base",
            "top": null,
            "grid_column": null,
            "overflow_y": null,
            "overflow_x": null,
            "grid_auto_flow": null,
            "grid_area": null,
            "grid_template_columns": null,
            "flex": null,
            "_model_name": "LayoutModel",
            "justify_items": null,
            "grid_row": null,
            "max_height": null,
            "align_content": null,
            "visibility": null,
            "align_self": null,
            "height": null,
            "min_height": null,
            "padding": null,
            "grid_auto_rows": null,
            "grid_gap": null,
            "max_width": null,
            "order": null,
            "_view_module_version": "1.2.0",
            "grid_template_areas": null,
            "object_position": null,
            "object_fit": null,
            "grid_auto_columns": null,
            "margin": null,
            "display": null,
            "left": null
          }
        },
        "f02084c6ef674a92a32a7fc71f03a8d2": {
          "model_module": "@jupyter-widgets/controls",
          "model_name": "HTMLModel",
          "state": {
            "_view_name": "HTMLView",
            "style": "IPY_MODEL_d8968caa56aa42dab2aa4165fc982777",
            "_dom_classes": [],
            "description": "",
            "_model_name": "HTMLModel",
            "placeholder": "​",
            "_view_module": "@jupyter-widgets/controls",
            "_model_module_version": "1.5.0",
            "value": "100%",
            "_view_count": null,
            "_view_module_version": "1.5.0",
            "description_tooltip": null,
            "_model_module": "@jupyter-widgets/controls",
            "layout": "IPY_MODEL_3aab2df3897149a4a9950da50c9fa6b6"
          }
        },
        "b6d873ac1d7b4f9089422343470f09e7": {
          "model_module": "@jupyter-widgets/controls",
          "model_name": "FloatProgressModel",
          "state": {
            "_view_name": "ProgressView",
            "style": "IPY_MODEL_4c0b55d0d2944f4ab59b3cf9a17719c8",
            "_dom_classes": [],
            "description": "",
            "_model_name": "FloatProgressModel",
            "bar_style": "success",
            "max": 100441675,
            "_view_module": "@jupyter-widgets/controls",
            "_model_module_version": "1.5.0",
            "value": 100441675,
            "_view_count": null,
            "_view_module_version": "1.5.0",
            "orientation": "horizontal",
            "min": 0,
            "description_tooltip": null,
            "_model_module": "@jupyter-widgets/controls",
            "layout": "IPY_MODEL_14213cc61f9f4618a534c0c07ecd36e5"
          }
        },
        "3b66c312d96e408793f2ba228b0020f6": {
          "model_module": "@jupyter-widgets/controls",
          "model_name": "HTMLModel",
          "state": {
            "_view_name": "HTMLView",
            "style": "IPY_MODEL_f63fdd32487d4f918e5a3b7a1a755b69",
            "_dom_classes": [],
            "description": "",
            "_model_name": "HTMLModel",
            "placeholder": "​",
            "_view_module": "@jupyter-widgets/controls",
            "_model_module_version": "1.5.0",
            "value": " 95.8M/95.8M [00:01&lt;00:00, 69.2MB/s]",
            "_view_count": null,
            "_view_module_version": "1.5.0",
            "description_tooltip": null,
            "_model_module": "@jupyter-widgets/controls",
            "layout": "IPY_MODEL_baa79d618d5842198118d5ce35ead41c"
          }
        },
        "d8968caa56aa42dab2aa4165fc982777": {
          "model_module": "@jupyter-widgets/controls",
          "model_name": "DescriptionStyleModel",
          "state": {
            "_view_name": "StyleView",
            "_model_name": "DescriptionStyleModel",
            "description_width": "",
            "_view_module": "@jupyter-widgets/base",
            "_model_module_version": "1.5.0",
            "_view_count": null,
            "_view_module_version": "1.2.0",
            "_model_module": "@jupyter-widgets/controls"
          }
        },
        "3aab2df3897149a4a9950da50c9fa6b6": {
          "model_module": "@jupyter-widgets/base",
          "model_name": "LayoutModel",
          "state": {
            "_view_name": "LayoutView",
            "grid_template_rows": null,
            "right": null,
            "justify_content": null,
            "_view_module": "@jupyter-widgets/base",
            "overflow": null,
            "_model_module_version": "1.2.0",
            "_view_count": null,
            "flex_flow": null,
            "width": null,
            "min_width": null,
            "border": null,
            "align_items": null,
            "bottom": null,
            "_model_module": "@jupyter-widgets/base",
            "top": null,
            "grid_column": null,
            "overflow_y": null,
            "overflow_x": null,
            "grid_auto_flow": null,
            "grid_area": null,
            "grid_template_columns": null,
            "flex": null,
            "_model_name": "LayoutModel",
            "justify_items": null,
            "grid_row": null,
            "max_height": null,
            "align_content": null,
            "visibility": null,
            "align_self": null,
            "height": null,
            "min_height": null,
            "padding": null,
            "grid_auto_rows": null,
            "grid_gap": null,
            "max_width": null,
            "order": null,
            "_view_module_version": "1.2.0",
            "grid_template_areas": null,
            "object_position": null,
            "object_fit": null,
            "grid_auto_columns": null,
            "margin": null,
            "display": null,
            "left": null
          }
        },
        "4c0b55d0d2944f4ab59b3cf9a17719c8": {
          "model_module": "@jupyter-widgets/controls",
          "model_name": "ProgressStyleModel",
          "state": {
            "_view_name": "StyleView",
            "_model_name": "ProgressStyleModel",
            "description_width": "",
            "_view_module": "@jupyter-widgets/base",
            "_model_module_version": "1.5.0",
            "_view_count": null,
            "_view_module_version": "1.2.0",
            "bar_color": null,
            "_model_module": "@jupyter-widgets/controls"
          }
        },
        "14213cc61f9f4618a534c0c07ecd36e5": {
          "model_module": "@jupyter-widgets/base",
          "model_name": "LayoutModel",
          "state": {
            "_view_name": "LayoutView",
            "grid_template_rows": null,
            "right": null,
            "justify_content": null,
            "_view_module": "@jupyter-widgets/base",
            "overflow": null,
            "_model_module_version": "1.2.0",
            "_view_count": null,
            "flex_flow": null,
            "width": null,
            "min_width": null,
            "border": null,
            "align_items": null,
            "bottom": null,
            "_model_module": "@jupyter-widgets/base",
            "top": null,
            "grid_column": null,
            "overflow_y": null,
            "overflow_x": null,
            "grid_auto_flow": null,
            "grid_area": null,
            "grid_template_columns": null,
            "flex": null,
            "_model_name": "LayoutModel",
            "justify_items": null,
            "grid_row": null,
            "max_height": null,
            "align_content": null,
            "visibility": null,
            "align_self": null,
            "height": null,
            "min_height": null,
            "padding": null,
            "grid_auto_rows": null,
            "grid_gap": null,
            "max_width": null,
            "order": null,
            "_view_module_version": "1.2.0",
            "grid_template_areas": null,
            "object_position": null,
            "object_fit": null,
            "grid_auto_columns": null,
            "margin": null,
            "display": null,
            "left": null
          }
        },
        "f63fdd32487d4f918e5a3b7a1a755b69": {
          "model_module": "@jupyter-widgets/controls",
          "model_name": "DescriptionStyleModel",
          "state": {
            "_view_name": "StyleView",
            "_model_name": "DescriptionStyleModel",
            "description_width": "",
            "_view_module": "@jupyter-widgets/base",
            "_model_module_version": "1.5.0",
            "_view_count": null,
            "_view_module_version": "1.2.0",
            "_model_module": "@jupyter-widgets/controls"
          }
        },
        "baa79d618d5842198118d5ce35ead41c": {
          "model_module": "@jupyter-widgets/base",
          "model_name": "LayoutModel",
          "state": {
            "_view_name": "LayoutView",
            "grid_template_rows": null,
            "right": null,
            "justify_content": null,
            "_view_module": "@jupyter-widgets/base",
            "overflow": null,
            "_model_module_version": "1.2.0",
            "_view_count": null,
            "flex_flow": null,
            "width": null,
            "min_width": null,
            "border": null,
            "align_items": null,
            "bottom": null,
            "_model_module": "@jupyter-widgets/base",
            "top": null,
            "grid_column": null,
            "overflow_y": null,
            "overflow_x": null,
            "grid_auto_flow": null,
            "grid_area": null,
            "grid_template_columns": null,
            "flex": null,
            "_model_name": "LayoutModel",
            "justify_items": null,
            "grid_row": null,
            "max_height": null,
            "align_content": null,
            "visibility": null,
            "align_self": null,
            "height": null,
            "min_height": null,
            "padding": null,
            "grid_auto_rows": null,
            "grid_gap": null,
            "max_width": null,
            "order": null,
            "_view_module_version": "1.2.0",
            "grid_template_areas": null,
            "object_position": null,
            "object_fit": null,
            "grid_auto_columns": null,
            "margin": null,
            "display": null,
            "left": null
          }
        }
      }
    }
  },
  "cells": [
    {
      "cell_type": "markdown",
      "metadata": {
        "id": "bwud7FEf9Y58"
      },
      "source": [
        "## Repository\n",
        "Clone repository if you execute in Google Collaboratory."
      ]
    },
    {
      "cell_type": "code",
      "metadata": {
        "id": "8NjIf69u9Y6D",
        "outputId": "e4552f1c-2c89-43a9-fcbf-b822ef080e52",
        "colab": {
          "base_uri": "https://localhost:8080/",
          "height": 992
        }
      },
      "source": [
        "!git clone https://github.com/dinimar/image-retrieval-analysis\n",
        "!pip3 install -r image-retrieval-analysis/requirements.txt\n",
        "import sys\n",
        "sys.path.insert(0, 'image-retrieval-analysis')\n",
        "%load_ext tensorboard"
      ],
      "execution_count": 1,
      "outputs": [
        {
          "output_type": "stream",
          "text": [
            "fatal: destination path 'image-retrieval-analysis' already exists and is not an empty directory.\n",
            "Requirement already satisfied: attr==0.3.1 in /usr/local/lib/python3.6/dist-packages (from -r image-retrieval-analysis/requirements.txt (line 1)) (0.3.1)\n",
            "Requirement already satisfied: attrs==20.2.0 in /usr/local/lib/python3.6/dist-packages (from -r image-retrieval-analysis/requirements.txt (line 2)) (20.2.0)\n",
            "Requirement already satisfied: future==0.18.2 in /usr/local/lib/python3.6/dist-packages (from -r image-retrieval-analysis/requirements.txt (line 3)) (0.18.2)\n",
            "Requirement already satisfied: numpy==1.19.2 in /usr/local/lib/python3.6/dist-packages (from -r image-retrieval-analysis/requirements.txt (line 4)) (1.19.2)\n",
            "Requirement already satisfied: pandas==1.1.2 in /usr/local/lib/python3.6/dist-packages (from -r image-retrieval-analysis/requirements.txt (line 5)) (1.1.2)\n",
            "Requirement already satisfied: Pillow==7.2.0 in /usr/local/lib/python3.6/dist-packages (from -r image-retrieval-analysis/requirements.txt (line 6)) (7.2.0)\n",
            "Requirement already satisfied: jupyter in /usr/local/lib/python3.6/dist-packages (from -r image-retrieval-analysis/requirements.txt (line 7)) (1.0.0)\n",
            "Requirement already satisfied: wget==3.2 in /usr/local/lib/python3.6/dist-packages (from -r image-retrieval-analysis/requirements.txt (line 8)) (3.2)\n",
            "Requirement already satisfied: pyyaml==5.3.1 in /usr/local/lib/python3.6/dist-packages (from -r image-retrieval-analysis/requirements.txt (line 9)) (5.3.1)\n",
            "Requirement already satisfied: python-dateutil==2.8.1 in /usr/local/lib/python3.6/dist-packages (from -r image-retrieval-analysis/requirements.txt (line 10)) (2.8.1)\n",
            "Requirement already satisfied: pytz==2020.1 in /usr/local/lib/python3.6/dist-packages (from -r image-retrieval-analysis/requirements.txt (line 11)) (2020.1)\n",
            "Requirement already satisfied: six==1.15.0 in /usr/local/lib/python3.6/dist-packages (from -r image-retrieval-analysis/requirements.txt (line 12)) (1.15.0)\n",
            "Requirement already satisfied: torch==1.6.0 in /usr/local/lib/python3.6/dist-packages (from -r image-retrieval-analysis/requirements.txt (line 13)) (1.6.0+cu101)\n",
            "Requirement already satisfied: torchvision==0.7.0 in /usr/local/lib/python3.6/dist-packages (from -r image-retrieval-analysis/requirements.txt (line 14)) (0.7.0+cu101)\n",
            "Requirement already satisfied: tqdm==4.50.0 in /usr/local/lib/python3.6/dist-packages (from -r image-retrieval-analysis/requirements.txt (line 15)) (4.50.0)\n",
            "Requirement already satisfied: qtconsole in /usr/local/lib/python3.6/dist-packages (from jupyter->-r image-retrieval-analysis/requirements.txt (line 7)) (4.7.7)\n",
            "Requirement already satisfied: jupyter-console in /usr/local/lib/python3.6/dist-packages (from jupyter->-r image-retrieval-analysis/requirements.txt (line 7)) (5.2.0)\n",
            "Requirement already satisfied: notebook in /usr/local/lib/python3.6/dist-packages (from jupyter->-r image-retrieval-analysis/requirements.txt (line 7)) (5.3.1)\n",
            "Requirement already satisfied: nbconvert in /usr/local/lib/python3.6/dist-packages (from jupyter->-r image-retrieval-analysis/requirements.txt (line 7)) (5.6.1)\n",
            "Requirement already satisfied: ipywidgets in /usr/local/lib/python3.6/dist-packages (from jupyter->-r image-retrieval-analysis/requirements.txt (line 7)) (7.5.1)\n",
            "Requirement already satisfied: ipykernel in /usr/local/lib/python3.6/dist-packages (from jupyter->-r image-retrieval-analysis/requirements.txt (line 7)) (4.10.1)\n",
            "Requirement already satisfied: pygments in /usr/local/lib/python3.6/dist-packages (from qtconsole->jupyter->-r image-retrieval-analysis/requirements.txt (line 7)) (2.6.1)\n",
            "Requirement already satisfied: pyzmq>=17.1 in /usr/local/lib/python3.6/dist-packages (from qtconsole->jupyter->-r image-retrieval-analysis/requirements.txt (line 7)) (19.0.2)\n",
            "Requirement already satisfied: ipython-genutils in /usr/local/lib/python3.6/dist-packages (from qtconsole->jupyter->-r image-retrieval-analysis/requirements.txt (line 7)) (0.2.0)\n",
            "Requirement already satisfied: jupyter-client>=4.1 in /usr/local/lib/python3.6/dist-packages (from qtconsole->jupyter->-r image-retrieval-analysis/requirements.txt (line 7)) (5.3.5)\n",
            "Requirement already satisfied: traitlets in /usr/local/lib/python3.6/dist-packages (from qtconsole->jupyter->-r image-retrieval-analysis/requirements.txt (line 7)) (4.3.3)\n",
            "Requirement already satisfied: jupyter-core in /usr/local/lib/python3.6/dist-packages (from qtconsole->jupyter->-r image-retrieval-analysis/requirements.txt (line 7)) (4.6.3)\n",
            "Requirement already satisfied: qtpy in /usr/local/lib/python3.6/dist-packages (from qtconsole->jupyter->-r image-retrieval-analysis/requirements.txt (line 7)) (1.9.0)\n",
            "Requirement already satisfied: ipython in /usr/local/lib/python3.6/dist-packages (from jupyter-console->jupyter->-r image-retrieval-analysis/requirements.txt (line 7)) (5.5.0)\n",
            "Requirement already satisfied: prompt-toolkit<2.0.0,>=1.0.0 in /usr/local/lib/python3.6/dist-packages (from jupyter-console->jupyter->-r image-retrieval-analysis/requirements.txt (line 7)) (1.0.18)\n",
            "Requirement already satisfied: tornado>=4 in /usr/local/lib/python3.6/dist-packages (from notebook->jupyter->-r image-retrieval-analysis/requirements.txt (line 7)) (5.1.1)\n",
            "Requirement already satisfied: terminado>=0.8.1 in /usr/local/lib/python3.6/dist-packages (from notebook->jupyter->-r image-retrieval-analysis/requirements.txt (line 7)) (0.9.1)\n",
            "Requirement already satisfied: nbformat in /usr/local/lib/python3.6/dist-packages (from notebook->jupyter->-r image-retrieval-analysis/requirements.txt (line 7)) (5.0.7)\n",
            "Requirement already satisfied: jinja2 in /usr/local/lib/python3.6/dist-packages (from notebook->jupyter->-r image-retrieval-analysis/requirements.txt (line 7)) (2.11.2)\n",
            "Requirement already satisfied: Send2Trash in /usr/local/lib/python3.6/dist-packages (from notebook->jupyter->-r image-retrieval-analysis/requirements.txt (line 7)) (1.5.0)\n",
            "Requirement already satisfied: testpath in /usr/local/lib/python3.6/dist-packages (from nbconvert->jupyter->-r image-retrieval-analysis/requirements.txt (line 7)) (0.4.4)\n",
            "Requirement already satisfied: entrypoints>=0.2.2 in /usr/local/lib/python3.6/dist-packages (from nbconvert->jupyter->-r image-retrieval-analysis/requirements.txt (line 7)) (0.3)\n",
            "Requirement already satisfied: pandocfilters>=1.4.1 in /usr/local/lib/python3.6/dist-packages (from nbconvert->jupyter->-r image-retrieval-analysis/requirements.txt (line 7)) (1.4.2)\n",
            "Requirement already satisfied: bleach in /usr/local/lib/python3.6/dist-packages (from nbconvert->jupyter->-r image-retrieval-analysis/requirements.txt (line 7)) (3.2.1)\n",
            "Requirement already satisfied: defusedxml in /usr/local/lib/python3.6/dist-packages (from nbconvert->jupyter->-r image-retrieval-analysis/requirements.txt (line 7)) (0.6.0)\n",
            "Requirement already satisfied: mistune<2,>=0.8.1 in /usr/local/lib/python3.6/dist-packages (from nbconvert->jupyter->-r image-retrieval-analysis/requirements.txt (line 7)) (0.8.4)\n",
            "Requirement already satisfied: widgetsnbextension~=3.5.0 in /usr/local/lib/python3.6/dist-packages (from ipywidgets->jupyter->-r image-retrieval-analysis/requirements.txt (line 7)) (3.5.1)\n",
            "Requirement already satisfied: decorator in /usr/local/lib/python3.6/dist-packages (from traitlets->qtconsole->jupyter->-r image-retrieval-analysis/requirements.txt (line 7)) (4.4.2)\n",
            "Requirement already satisfied: simplegeneric>0.8 in /usr/local/lib/python3.6/dist-packages (from ipython->jupyter-console->jupyter->-r image-retrieval-analysis/requirements.txt (line 7)) (0.8.1)\n",
            "Requirement already satisfied: pickleshare in /usr/local/lib/python3.6/dist-packages (from ipython->jupyter-console->jupyter->-r image-retrieval-analysis/requirements.txt (line 7)) (0.7.5)\n",
            "Requirement already satisfied: pexpect; sys_platform != \"win32\" in /usr/local/lib/python3.6/dist-packages (from ipython->jupyter-console->jupyter->-r image-retrieval-analysis/requirements.txt (line 7)) (4.8.0)\n",
            "Requirement already satisfied: setuptools>=18.5 in /usr/local/lib/python3.6/dist-packages (from ipython->jupyter-console->jupyter->-r image-retrieval-analysis/requirements.txt (line 7)) (50.3.0)\n",
            "Requirement already satisfied: wcwidth in /usr/local/lib/python3.6/dist-packages (from prompt-toolkit<2.0.0,>=1.0.0->jupyter-console->jupyter->-r image-retrieval-analysis/requirements.txt (line 7)) (0.2.5)\n",
            "Requirement already satisfied: ptyprocess; os_name != \"nt\" in /usr/local/lib/python3.6/dist-packages (from terminado>=0.8.1->notebook->jupyter->-r image-retrieval-analysis/requirements.txt (line 7)) (0.6.0)\n",
            "Requirement already satisfied: jsonschema!=2.5.0,>=2.4 in /usr/local/lib/python3.6/dist-packages (from nbformat->notebook->jupyter->-r image-retrieval-analysis/requirements.txt (line 7)) (2.6.0)\n",
            "Requirement already satisfied: MarkupSafe>=0.23 in /usr/local/lib/python3.6/dist-packages (from jinja2->notebook->jupyter->-r image-retrieval-analysis/requirements.txt (line 7)) (1.1.1)\n",
            "Requirement already satisfied: packaging in /usr/local/lib/python3.6/dist-packages (from bleach->nbconvert->jupyter->-r image-retrieval-analysis/requirements.txt (line 7)) (20.4)\n",
            "Requirement already satisfied: webencodings in /usr/local/lib/python3.6/dist-packages (from bleach->nbconvert->jupyter->-r image-retrieval-analysis/requirements.txt (line 7)) (0.5.1)\n",
            "Requirement already satisfied: pyparsing>=2.0.2 in /usr/local/lib/python3.6/dist-packages (from packaging->bleach->nbconvert->jupyter->-r image-retrieval-analysis/requirements.txt (line 7)) (2.4.7)\n"
          ],
          "name": "stdout"
        }
      ]
    },
    {
      "cell_type": "markdown",
      "metadata": {
        "id": "ZhsZ-Q1s9eOD"
      },
      "source": [
        "## Dataset\n",
        "Upload dataset in your Google Drive folder. Then mount GDrive."
      ]
    },
    {
      "cell_type": "code",
      "metadata": {
        "id": "ExNTruYb9Y6h",
        "outputId": "61ebacd4-a548-4523-c8ad-ae66f538df55",
        "colab": {
          "base_uri": "https://localhost:8080/",
          "height": 34
        }
      },
      "source": [
        "from google.colab import drive\n",
        "drive.mount('/content/drive')"
      ],
      "execution_count": 2,
      "outputs": [
        {
          "output_type": "stream",
          "text": [
            "Mounted at /content/drive\n"
          ],
          "name": "stdout"
        }
      ]
    },
    {
      "cell_type": "markdown",
      "metadata": {
        "id": "nam93Lw_JrkV"
      },
      "source": [
        "# Training\n",
        "Train ResNext on DIGIX dataset "
      ]
    },
    {
      "cell_type": "code",
      "metadata": {
        "id": "sr-7JT_QdrS0",
        "outputId": "1c90461d-7079-4e11-b9b4-3fefd4c2d332",
        "colab": {
          "base_uri": "https://localhost:8080/",
          "height": 104,
          "referenced_widgets": [
            "daeba8338fbd49738eb6c9bf67fe0a3e",
            "68f34a5f3c57481c9b5652efbd69e203",
            "f02084c6ef674a92a32a7fc71f03a8d2",
            "b6d873ac1d7b4f9089422343470f09e7",
            "3b66c312d96e408793f2ba228b0020f6",
            "d8968caa56aa42dab2aa4165fc982777",
            "3aab2df3897149a4a9950da50c9fa6b6",
            "4c0b55d0d2944f4ab59b3cf9a17719c8",
            "14213cc61f9f4618a534c0c07ecd36e5",
            "f63fdd32487d4f918e5a3b7a1a755b69",
            "baa79d618d5842198118d5ce35ead41c"
          ]
        }
      },
      "source": [
        "from dataset import create_dataloader\n",
        "from model import *\n",
        "\n",
        "csv_file = '/content/drive/My Drive/DataScience/train_data/label.txt'\n",
        "root_dir = '/content/drive/My Drive/DataScience/train_data'\n",
        "num_classes = 3097\n",
        "path_to_model = None\n",
        "\n",
        "train_loader, val_loader = create_dataloader(\n",
        "    csv_file=csv_file,\n",
        "    root_dir=root_dir,\n",
        "    num_classes=num_classes\n",
        ")\n",
        "if path_to_model:\n",
        "    model = torch.load(path_to_model)\n",
        "else:\n",
        "    model = torchvision.models.resnext50_32x4d(pretrained=True)\n",
        "    model= FineTuneModel(model, num_classes=num_classes)\n",
        "model = ModelInterface(model=model)\n",
        "model.train(train_loader, val_loader) "
      ],
      "execution_count": null,
      "outputs": [
        {
          "output_type": "stream",
          "text": [
            "Downloading: \"https://download.pytorch.org/models/resnext50_32x4d-7cdf4587.pth\" to /root/.cache/torch/hub/checkpoints/resnext50_32x4d-7cdf4587.pth\n"
          ],
          "name": "stderr"
        },
        {
          "output_type": "display_data",
          "data": {
            "application/vnd.jupyter.widget-view+json": {
              "model_id": "daeba8338fbd49738eb6c9bf67fe0a3e",
              "version_minor": 0,
              "version_major": 2
            },
            "text/plain": [
              "HBox(children=(HTML(value=''), FloatProgress(value=0.0, max=100441675.0), HTML(value='')))"
            ]
          },
          "metadata": {
            "tags": []
          }
        },
        {
          "output_type": "stream",
          "text": [
            "\n"
          ],
          "name": "stdout"
        }
      ]
    },
    {
      "cell_type": "markdown",
      "metadata": {
        "id": "H6VpPnjkFxkf"
      },
      "source": [
        "## Tensorboard\n",
        "Initialize tensorboard folder and up server."
      ]
    },
    {
      "cell_type": "code",
      "metadata": {
        "id": "l4uLGmwqF2zH"
      },
      "source": [
        "%tensorboard --logdir logs\n",
        "\n",
        "from tensorboardcolab import TensorBoard\n",
        "tensorboard = TensorBoard(log_dir=\"./logs\")"
      ],
      "execution_count": null,
      "outputs": []
    }
  ]
}