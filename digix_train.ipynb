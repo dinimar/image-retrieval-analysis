{
  "nbformat": 4,
  "nbformat_minor": 0,
  "metadata": {
    "orig_nbformat": 2,
    "colab": {
      "name": "digix_train.ipynb",
      "provenance": []
    },
    "kernelspec": {
      "name": "python3",
      "display_name": "Python 3"
    }
  },
  "cells": [
    {
      "cell_type": "markdown",
      "metadata": {
        "id": "bwud7FEf9Y58"
      },
      "source": [
        "## Repository\n",
        "Clone repository if you execute in Google Collaboratory."
      ]
    },
    {
      "cell_type": "code",
      "metadata": {
        "id": "8NjIf69u9Y6D",
        "outputId": "fc1a91bd-1517-41d6-e48b-15e6a73f4192",
        "colab": {
          "base_uri": "https://localhost:8080/",
          "height": 992
        }
      },
      "source": [
        "!git clone https://github.com/dinimar/image-retrieval-analysis\n",
        "!pip3 install -r image-retrieval-analysis/requirements.txt\n",
        "import sys\n",
        "sys.path.insert(0, 'image-retrieval-analysis')"
      ],
      "execution_count": 1,
      "outputs": [
        {
          "output_type": "stream",
          "text": [
            "fatal: destination path 'image-retrieval-analysis' already exists and is not an empty directory.\n",
            "Requirement already satisfied: attr==0.3.1 in /usr/local/lib/python3.6/dist-packages (from -r image-retrieval-analysis/requirements.txt (line 1)) (0.3.1)\n",
            "Requirement already satisfied: attrs==20.2.0 in /usr/local/lib/python3.6/dist-packages (from -r image-retrieval-analysis/requirements.txt (line 2)) (20.2.0)\n",
            "Requirement already satisfied: future==0.18.2 in /usr/local/lib/python3.6/dist-packages (from -r image-retrieval-analysis/requirements.txt (line 3)) (0.18.2)\n",
            "Requirement already satisfied: numpy==1.19.2 in /usr/local/lib/python3.6/dist-packages (from -r image-retrieval-analysis/requirements.txt (line 4)) (1.19.2)\n",
            "Requirement already satisfied: pandas==1.1.2 in /usr/local/lib/python3.6/dist-packages (from -r image-retrieval-analysis/requirements.txt (line 5)) (1.1.2)\n",
            "Requirement already satisfied: Pillow==7.2.0 in /usr/local/lib/python3.6/dist-packages (from -r image-retrieval-analysis/requirements.txt (line 6)) (7.2.0)\n",
            "Requirement already satisfied: jupyter in /usr/local/lib/python3.6/dist-packages (from -r image-retrieval-analysis/requirements.txt (line 7)) (1.0.0)\n",
            "Requirement already satisfied: wget==3.2 in /usr/local/lib/python3.6/dist-packages (from -r image-retrieval-analysis/requirements.txt (line 8)) (3.2)\n",
            "Requirement already satisfied: pyyaml==5.3.1 in /usr/local/lib/python3.6/dist-packages (from -r image-retrieval-analysis/requirements.txt (line 9)) (5.3.1)\n",
            "Requirement already satisfied: python-dateutil==2.8.1 in /usr/local/lib/python3.6/dist-packages (from -r image-retrieval-analysis/requirements.txt (line 10)) (2.8.1)\n",
            "Requirement already satisfied: pytz==2020.1 in /usr/local/lib/python3.6/dist-packages (from -r image-retrieval-analysis/requirements.txt (line 11)) (2020.1)\n",
            "Requirement already satisfied: six==1.15.0 in /usr/local/lib/python3.6/dist-packages (from -r image-retrieval-analysis/requirements.txt (line 12)) (1.15.0)\n",
            "Requirement already satisfied: torch==1.6.0 in /usr/local/lib/python3.6/dist-packages (from -r image-retrieval-analysis/requirements.txt (line 13)) (1.6.0+cu101)\n",
            "Requirement already satisfied: torchvision==0.7.0 in /usr/local/lib/python3.6/dist-packages (from -r image-retrieval-analysis/requirements.txt (line 14)) (0.7.0+cu101)\n",
            "Requirement already satisfied: tqdm==4.50.0 in /usr/local/lib/python3.6/dist-packages (from -r image-retrieval-analysis/requirements.txt (line 15)) (4.50.0)\n",
            "Requirement already satisfied: ipywidgets in /usr/local/lib/python3.6/dist-packages (from jupyter->-r image-retrieval-analysis/requirements.txt (line 7)) (7.5.1)\n",
            "Requirement already satisfied: ipykernel in /usr/local/lib/python3.6/dist-packages (from jupyter->-r image-retrieval-analysis/requirements.txt (line 7)) (4.10.1)\n",
            "Requirement already satisfied: jupyter-console in /usr/local/lib/python3.6/dist-packages (from jupyter->-r image-retrieval-analysis/requirements.txt (line 7)) (5.2.0)\n",
            "Requirement already satisfied: nbconvert in /usr/local/lib/python3.6/dist-packages (from jupyter->-r image-retrieval-analysis/requirements.txt (line 7)) (5.6.1)\n",
            "Requirement already satisfied: qtconsole in /usr/local/lib/python3.6/dist-packages (from jupyter->-r image-retrieval-analysis/requirements.txt (line 7)) (4.7.7)\n",
            "Requirement already satisfied: notebook in /usr/local/lib/python3.6/dist-packages (from jupyter->-r image-retrieval-analysis/requirements.txt (line 7)) (5.3.1)\n",
            "Requirement already satisfied: widgetsnbextension~=3.5.0 in /usr/local/lib/python3.6/dist-packages (from ipywidgets->jupyter->-r image-retrieval-analysis/requirements.txt (line 7)) (3.5.1)\n",
            "Requirement already satisfied: ipython>=4.0.0; python_version >= \"3.3\" in /usr/local/lib/python3.6/dist-packages (from ipywidgets->jupyter->-r image-retrieval-analysis/requirements.txt (line 7)) (5.5.0)\n",
            "Requirement already satisfied: traitlets>=4.3.1 in /usr/local/lib/python3.6/dist-packages (from ipywidgets->jupyter->-r image-retrieval-analysis/requirements.txt (line 7)) (4.3.3)\n",
            "Requirement already satisfied: nbformat>=4.2.0 in /usr/local/lib/python3.6/dist-packages (from ipywidgets->jupyter->-r image-retrieval-analysis/requirements.txt (line 7)) (5.0.7)\n",
            "Requirement already satisfied: jupyter-client in /usr/local/lib/python3.6/dist-packages (from ipykernel->jupyter->-r image-retrieval-analysis/requirements.txt (line 7)) (5.3.5)\n",
            "Requirement already satisfied: tornado>=4.0 in /usr/local/lib/python3.6/dist-packages (from ipykernel->jupyter->-r image-retrieval-analysis/requirements.txt (line 7)) (5.1.1)\n",
            "Requirement already satisfied: pygments in /usr/local/lib/python3.6/dist-packages (from jupyter-console->jupyter->-r image-retrieval-analysis/requirements.txt (line 7)) (2.6.1)\n",
            "Requirement already satisfied: prompt-toolkit<2.0.0,>=1.0.0 in /usr/local/lib/python3.6/dist-packages (from jupyter-console->jupyter->-r image-retrieval-analysis/requirements.txt (line 7)) (1.0.18)\n",
            "Requirement already satisfied: bleach in /usr/local/lib/python3.6/dist-packages (from nbconvert->jupyter->-r image-retrieval-analysis/requirements.txt (line 7)) (3.2.1)\n",
            "Requirement already satisfied: defusedxml in /usr/local/lib/python3.6/dist-packages (from nbconvert->jupyter->-r image-retrieval-analysis/requirements.txt (line 7)) (0.6.0)\n",
            "Requirement already satisfied: jinja2>=2.4 in /usr/local/lib/python3.6/dist-packages (from nbconvert->jupyter->-r image-retrieval-analysis/requirements.txt (line 7)) (2.11.2)\n",
            "Requirement already satisfied: pandocfilters>=1.4.1 in /usr/local/lib/python3.6/dist-packages (from nbconvert->jupyter->-r image-retrieval-analysis/requirements.txt (line 7)) (1.4.2)\n",
            "Requirement already satisfied: jupyter-core in /usr/local/lib/python3.6/dist-packages (from nbconvert->jupyter->-r image-retrieval-analysis/requirements.txt (line 7)) (4.6.3)\n",
            "Requirement already satisfied: entrypoints>=0.2.2 in /usr/local/lib/python3.6/dist-packages (from nbconvert->jupyter->-r image-retrieval-analysis/requirements.txt (line 7)) (0.3)\n",
            "Requirement already satisfied: testpath in /usr/local/lib/python3.6/dist-packages (from nbconvert->jupyter->-r image-retrieval-analysis/requirements.txt (line 7)) (0.4.4)\n",
            "Requirement already satisfied: mistune<2,>=0.8.1 in /usr/local/lib/python3.6/dist-packages (from nbconvert->jupyter->-r image-retrieval-analysis/requirements.txt (line 7)) (0.8.4)\n",
            "Requirement already satisfied: pyzmq>=17.1 in /usr/local/lib/python3.6/dist-packages (from qtconsole->jupyter->-r image-retrieval-analysis/requirements.txt (line 7)) (19.0.2)\n",
            "Requirement already satisfied: qtpy in /usr/local/lib/python3.6/dist-packages (from qtconsole->jupyter->-r image-retrieval-analysis/requirements.txt (line 7)) (1.9.0)\n",
            "Requirement already satisfied: ipython-genutils in /usr/local/lib/python3.6/dist-packages (from qtconsole->jupyter->-r image-retrieval-analysis/requirements.txt (line 7)) (0.2.0)\n",
            "Requirement already satisfied: Send2Trash in /usr/local/lib/python3.6/dist-packages (from notebook->jupyter->-r image-retrieval-analysis/requirements.txt (line 7)) (1.5.0)\n",
            "Requirement already satisfied: terminado>=0.8.1 in /usr/local/lib/python3.6/dist-packages (from notebook->jupyter->-r image-retrieval-analysis/requirements.txt (line 7)) (0.9.1)\n",
            "Requirement already satisfied: simplegeneric>0.8 in /usr/local/lib/python3.6/dist-packages (from ipython>=4.0.0; python_version >= \"3.3\"->ipywidgets->jupyter->-r image-retrieval-analysis/requirements.txt (line 7)) (0.8.1)\n",
            "Requirement already satisfied: decorator in /usr/local/lib/python3.6/dist-packages (from ipython>=4.0.0; python_version >= \"3.3\"->ipywidgets->jupyter->-r image-retrieval-analysis/requirements.txt (line 7)) (4.4.2)\n",
            "Requirement already satisfied: pickleshare in /usr/local/lib/python3.6/dist-packages (from ipython>=4.0.0; python_version >= \"3.3\"->ipywidgets->jupyter->-r image-retrieval-analysis/requirements.txt (line 7)) (0.7.5)\n",
            "Requirement already satisfied: pexpect; sys_platform != \"win32\" in /usr/local/lib/python3.6/dist-packages (from ipython>=4.0.0; python_version >= \"3.3\"->ipywidgets->jupyter->-r image-retrieval-analysis/requirements.txt (line 7)) (4.8.0)\n",
            "Requirement already satisfied: setuptools>=18.5 in /usr/local/lib/python3.6/dist-packages (from ipython>=4.0.0; python_version >= \"3.3\"->ipywidgets->jupyter->-r image-retrieval-analysis/requirements.txt (line 7)) (50.3.0)\n",
            "Requirement already satisfied: jsonschema!=2.5.0,>=2.4 in /usr/local/lib/python3.6/dist-packages (from nbformat>=4.2.0->ipywidgets->jupyter->-r image-retrieval-analysis/requirements.txt (line 7)) (2.6.0)\n",
            "Requirement already satisfied: wcwidth in /usr/local/lib/python3.6/dist-packages (from prompt-toolkit<2.0.0,>=1.0.0->jupyter-console->jupyter->-r image-retrieval-analysis/requirements.txt (line 7)) (0.2.5)\n",
            "Requirement already satisfied: packaging in /usr/local/lib/python3.6/dist-packages (from bleach->nbconvert->jupyter->-r image-retrieval-analysis/requirements.txt (line 7)) (20.4)\n",
            "Requirement already satisfied: webencodings in /usr/local/lib/python3.6/dist-packages (from bleach->nbconvert->jupyter->-r image-retrieval-analysis/requirements.txt (line 7)) (0.5.1)\n",
            "Requirement already satisfied: MarkupSafe>=0.23 in /usr/local/lib/python3.6/dist-packages (from jinja2>=2.4->nbconvert->jupyter->-r image-retrieval-analysis/requirements.txt (line 7)) (1.1.1)\n",
            "Requirement already satisfied: ptyprocess; os_name != \"nt\" in /usr/local/lib/python3.6/dist-packages (from terminado>=0.8.1->notebook->jupyter->-r image-retrieval-analysis/requirements.txt (line 7)) (0.6.0)\n",
            "Requirement already satisfied: pyparsing>=2.0.2 in /usr/local/lib/python3.6/dist-packages (from packaging->bleach->nbconvert->jupyter->-r image-retrieval-analysis/requirements.txt (line 7)) (2.4.7)\n"
          ],
          "name": "stdout"
        }
      ]
    },
    {
      "cell_type": "markdown",
      "metadata": {
        "id": "ZhsZ-Q1s9eOD"
      },
      "source": [
        "## Dataset\n",
        "Upload dataset in your Google Drive folder. Then mount GDrive."
      ]
    },
    {
      "cell_type": "code",
      "metadata": {
        "id": "ExNTruYb9Y6h",
        "outputId": "dae972d5-6ebc-4a4c-dee3-4bf4298d6591",
        "colab": {
          "base_uri": "https://localhost:8080/",
          "height": 34
        }
      },
      "source": [
        "from google.colab import drive\n",
        "drive.mount('/content/drive')"
      ],
      "execution_count": 2,
      "outputs": [
        {
          "output_type": "stream",
          "text": [
            "Drive already mounted at /content/drive; to attempt to forcibly remount, call drive.mount(\"/content/drive\", force_remount=True).\n"
          ],
          "name": "stdout"
        }
      ]
    },
    {
      "cell_type": "code",
      "metadata": {
        "id": "pC__HzZG-EW-",
        "outputId": "19f6f58d-f1f7-4f2f-bc5c-b5c1e310caef",
        "colab": {
          "base_uri": "https://localhost:8080/",
          "height": 17
        }
      },
      "source": [
        "%load_ext tensorboard\n",
        "\n",
        "%tensorboard --logdir logs\n",
        "!tensorboard dev upload --logdir logs --name \"Keras model\" --description \"Training the MNIST datasets\" "
      ],
      "execution_count": null,
      "outputs": [
        {
          "output_type": "stream",
          "text": [
            ""
          ],
          "name": "stdout"
        }
      ]
    },
    {
      "cell_type": "code",
      "metadata": {
        "id": "eCc482PtBenP"
      },
      "source": [
        "import tensorflow as tf\n",
        "import datetime, os\n",
        "\n",
        "mnist = tf.keras.datasets.mnist\n",
        "\n",
        "(x_train, y_train), (x_test, y_test) = mnist.load_data()\n",
        "x_train, x_test = x_train / 255.0, x_test / 255.0\n",
        "\n",
        "model = tf.keras.models.Sequential([\n",
        "  tf.keras.layers.Flatten(input_shape=(28, 28)),\n",
        "  tf.keras.layers.Dense(128, activation='relu'),\n",
        "  tf.keras.layers.Dropout(0.2),\n",
        "  tf.keras.layers.Dense(10)\n",
        "])\n",
        "\n",
        "loss_fn=tf.keras.losses.SparseCategoricalCrossentropy(from_logits=True)\n",
        "\n",
        "model.compile(optimizer='adam',loss=loss_fn,metrics=['accuracy'])\n",
        "logdir = os.path.join(\"logs\", datetime.datetime.now().strftime(\"%Y%m%d-%H%M%S\"))\n",
        "tensorboard_callback = tf.keras.callbacks.TensorBoard(logdir, histogram_freq=1)\n",
        "\n",
        "model.fit(x_train, y_train, epochs=10,callbacks=[tensorboard_callback])"
      ],
      "execution_count": null,
      "outputs": []
    }
  ]
}