{
 "metadata": {
  "language_info": {
   "codemirror_mode": {
    "name": "ipython",
    "version": 3
   },
   "file_extension": ".py",
   "mimetype": "text/x-python",
   "name": "python",
   "nbconvert_exporter": "python",
   "pygments_lexer": "ipython3",
   "version": 3
  },
  "orig_nbformat": 2
 },
 "nbformat": 4,
 "nbformat_minor": 2,
 "cells": [
  {
   "source": [
    "## Repository\n",
    "Clone repository if you execute in Google Collaboratory."
   ],
   "cell_type": "markdown",
   "metadata": {}
  },
  {
   "cell_type": "code",
   "execution_count": null,
   "metadata": {},
   "outputs": [],
   "source": [
    "!git clone https://github.com/dinimar/image-retrieval-analysis\n",
    "!pip3 install -r image-retrieval-analysis/requirements.txt\n",
    "import sys\n",
    "sys.path.insert(0, 'image-retrieval-analysis')"
   ]
  },
  {
   "cell_type": "code",
   "execution_count": null,
   "metadata": {},
   "outputs": [],
   "source": [
    "from digix_data import download_datasets\n",
    "\n",
    "download_datasets('/content/image-retrieval-analysis')"
   ]
  }
 ]
}